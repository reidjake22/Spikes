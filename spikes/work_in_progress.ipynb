{
 "cells": [
  {
   "cell_type": "code",
   "execution_count": 1,
   "metadata": {},
   "outputs": [],
   "source": [
    "# this is the main module. I will use this to gate running scripts as I develop. My aim is to develop clear well documented readable code.\n",
    "from input import *\n",
    "from tensorflow.keras.datasets import mnist    "
   ]
  },
  {
   "cell_type": "code",
   "execution_count": 2,
   "metadata": {},
   "outputs": [
    {
     "name": "stderr",
     "output_type": "stream",
     "text": [
      "Convolving images: 100%|██████████| 2/2 [00:03<00:00,  1.88s/it]\n",
      "Generating neuron mappings: 100%|██████████| 196/196 [00:04<00:00, 46.14it/s]\n"
     ]
    }
   ],
   "source": [
    "\n",
    "# Exemplifies how to use the filter module \n",
    "import numpy as np\n",
    "lambdas = [2, 4, 6, 8]  # Wavelengths\n",
    "betas = [1.5]  # Scaling factor for bandwidth\n",
    "thetas = [0, np.pi/4, np.pi/2, 3*np.pi/4]  # Orientations\n",
    "psis = [0, np.pi]  # Phase offsets\n",
    "gammas = [0.5]  # Aspect ratio\n",
    "size = 128\n",
    "gabor_filters = GaborFilters(size, lambdas,betas,thetas,psis,gammas)\n",
    "# Load the MNIST dataset\n",
    "(train_images, train_labels), (test_images, test_labels) = mnist.load_data()\n",
    "\n",
    "# Extract the first 30 images\n",
    "num_images = 2\n",
    "dataset = train_images[:num_images]\n",
    "\n",
    "# Normalize the dataset\n",
    "dataset = dataset.astype(np.float32) / 255.0\n",
    "neuron_inputs = generate_inputs_from_filters(dataset,\n",
    "                                                gabor_filters,\n",
    "                                                neuron_size = 14,\n",
    "                                                image_size = 28,\n",
    "                                                num_total_pixels=30,\n",
    "                                                radius=1,\n",
    "                                                shape=\"square\")"
   ]
  },
  {
   "cell_type": "markdown",
   "metadata": {},
   "source": [
    "## Getting the Neural Network layer 1 sorted out\n",
    "There are a few principle things to sort for layer 1:\n",
    "Neurons 28x28\n",
    "Interneurons (14x14)\n",
    "poisson groups based on the input profile\n",
    "tracking spikes & voltages.\n",
    "\n",
    "I think I'll use clips rather than exponential curves.\n"
   ]
  },
  {
   "cell_type": "code",
   "execution_count": 17,
   "metadata": {},
   "outputs": [
    {
     "name": "stdout",
     "output_type": "stream",
     "text": [
      "{'Cm': 0.5 * nfarad, 'g_leak': 25. * nsiemens, 'V_rest': -74. * mvolt, 'V_threshold': -53. * mvolt, 'V_reset': -57. * mvolt, 'V_reversal_e': 0. * volt, 'V_reversal_i': -70. * mvolt, 't_refract': 2. * msecond, 'sigma': 15. * uvolt, 'tau_m': 20. * msecond, 'tau_ee': 2. * msecond, 'tau_ie': 2. * msecond}\n",
      "{'Cm': 214. * pfarad, 'g_leak': 28. * nsiemens, 'V_rest': -82. * mvolt, 'V_threshold': -53. * mvolt, 'V_reset': -58. * mvolt, 'V_reversal_e': 0. * volt, 'V_reversal_i': -70. * mvolt, 't_refract': 2. * msecond, 'sigma': 15. * uvolt, 'tau_m': 12. * msecond, 'tau_ei': 5. * msecond, 'tau_ii': 5. * msecond}\n",
      "generating input layer\n",
      "generating inhibitory layer\n"
     ]
    }
   ],
   "source": [
    "from brian2 import *\n",
    "from network.neurons import NeuronType\n",
    "input_type = NeuronType(\"input\")\n",
    "inhibitory_type = NeuronType(\"inhibitory\")\n",
    "print(\"generating input layer\")\n",
    "first_layer = input_type.create_neuron_layer(size=14)\n",
    "print(\"generating inhibitory layer\")\n",
    "first_inhibitory_layer = input_type.create_neuron_layer(size=7)"
   ]
  },
  {
   "cell_type": "code",
   "execution_count": 4,
   "metadata": {},
   "outputs": [
    {
     "name": "stdout",
     "output_type": "stream",
     "text": [
      "[[1873.31121554  610.12062839 1906.65594093 5837.50297053 2000.69149329\n",
      "  2556.64840686 2651.9995621  2017.29886095 2068.16301787 3380.94495084\n",
      "  2724.6902103  1653.92892916 1685.53282681  910.9837632 ]\n",
      " [1713.59644786 4592.77447499 3226.84347595 1730.55867235 6236.36122085\n",
      "  3395.19482243 3227.0497099  2201.44338951 4627.31274029 1938.56238256\n",
      "  4348.67231533 5170.50934684 1321.35070817 3966.98148126]\n",
      " [2670.80807801 1957.64850443 3947.21034686 2317.79467382 3282.99855135\n",
      "  4872.67169018 3802.77803973 5185.05426387 2329.82386049 3094.97351707\n",
      "  1947.46065554 2762.78488494 2473.42716208 1916.51437364]\n",
      " [2338.31565959 4358.12511025 4218.53848416 4908.68327653 5979.15571548\n",
      "  3988.72926143 5899.92616197 2130.56547895 3195.81410502 5566.82387577\n",
      "  3350.29958292 3872.2536515  3085.2410895  4465.31154623]\n",
      " [4003.81419172 2032.13788264 7080.59908085 4154.16777847 5722.46422432\n",
      "  1552.43657827 4262.76384473 5845.21979644 9811.2409803  3447.10795372\n",
      "  3055.87078568 2478.15008315 5221.9972357  2140.78960989]\n",
      " [3382.91616314 2829.7215841  2938.69535692 2239.42641587 5027.35922607\n",
      "  7634.97043567 6892.92499552 6629.49056803 4013.35723604 2410.23534935\n",
      "  4436.36985971 3024.32148464 1729.94880141 2502.9254937 ]\n",
      " [ 883.09268456 3033.14485547 3403.10376146 2218.44804519 3890.04780162\n",
      "  2166.67668023 2619.34138131 6545.42469566 7633.85952437 4866.47392853\n",
      "  4745.19093218 4123.6630296  3467.54834    3293.70394259]\n",
      " [1987.66838476  715.44883777 1260.26010198 3225.49175575 3048.8948233\n",
      "  2557.49522234 7495.33984441 3548.78739969 7651.64155229 6449.98571647\n",
      "  4133.30091439 3200.27566145 2945.8509189  2461.36964453]\n",
      " [2741.07507515 1873.88006954 2796.3538767   988.48421051 2397.19014828\n",
      "  2503.06280346 4740.43120237 3784.59612585 1805.30649136 6769.13224182\n",
      "  5937.02296444 4484.526425   3303.05149175 2437.0153138 ]\n",
      " [1037.60991114 1485.2700575  2455.38462966 1934.61977436 2116.95112076\n",
      "  6074.50410831 2190.1075738  4026.55211978 6229.62554046 4654.43110796\n",
      "  3191.00463372 4643.89280946 1955.91347275 1755.1875618 ]\n",
      " [2014.12663301 1818.63593083 1130.87057209 1774.72719219 3517.82559014\n",
      "  1467.9037553  4208.12036885 4395.77339909 2014.52852269 4941.57260342\n",
      "  7621.26253216 3535.64503505 1738.62184248 2985.70307831]\n",
      " [4157.78696201 3254.10387262 3616.92141896 2223.59420442  676.6548125\n",
      "  4737.97343292 5436.79347614 1608.89974571 6196.20756454 5095.06248897\n",
      "  1532.24382259 4600.79040832 3803.48935007  741.06711592]\n",
      " [4156.65522903 3345.40073992 3100.14597405 4592.73591332 2987.47697253\n",
      "  2562.18512631 2224.50694978 2622.04020668 5562.84173446 2512.75096178\n",
      "  2841.78905743 1935.72637254 4140.75959204 1729.26160613]\n",
      " [2099.58514879 2846.14059768 4676.75751314 6368.38952597 5385.97705857\n",
      "  1827.11809239 3147.12112214 3367.24642593 2055.05826591 2596.45795844\n",
      "  3005.97048266 1612.7535183  2506.60722127  838.45153588]]\n"
     ]
    }
   ],
   "source": [
    "print(neuron_inputs.input_train[0])"
   ]
  },
  {
   "cell_type": "code",
   "execution_count": 18,
   "metadata": {},
   "outputs": [
    {
     "name": "stderr",
     "output_type": "stream",
     "text": [
      "WARNING    'i' is an internal variable of group 'synapses_1', but also exists in the run namespace with the value 6. The internal variable will be used. [brian2.groups.group.Group.resolve.resolution_conflict]\n",
      "WARNING    'j' is an internal variable of group 'synapses_1', but also exists in the run namespace with the value 6. The internal variable will be used. [brian2.groups.group.Group.resolve.resolution_conflict]\n",
      "WARNING    The object 'poissongroup' is getting deleted, but was never included in a network. This probably means that you did not store the object reference in a variable, or that the variable was not used to construct the network.\n",
      "The object was created here (most recent call only):\n",
      "  File '/var/folders/kt/dvpckm751r1656f50_b2ptl00000gn/T/ipykernel_55868/1481447788.py', line 12, in <module>\n",
      "    poisson_group = PoissonGroup(num_neurons, rates=neuron_inputs_flat * Hz) [brian2.core.base.unused_brian_object]\n",
      "WARNING    The object 'synapses' is getting deleted, but was never included in a network. This probably means that you did not store the object reference in a variable, or that the variable was not used to construct the network.\n",
      "The object was created here (most recent call only):\n",
      "  File '/var/folders/kt/dvpckm751r1656f50_b2ptl00000gn/T/ipykernel_55868/1481447788.py', line 32, in <module>\n",
      "    s_input = Synapses(poisson_group, first_layer, on_pre='ge_post += lambda_input') [brian2.core.base.unused_brian_object]\n",
      "WARNING    The object 'neurongroup_1' is getting deleted, but was never included in a network. This probably means that you did not store the object reference in a variable, or that the variable was not used to construct the network.\n",
      "The object was created here (most recent call only):\n",
      "  File '/var/folders/kt/dvpckm751r1656f50_b2ptl00000gn/T/ipykernel_55868/3237298363.py', line 14, in <module>\n",
      "    inhib_layer = NeuronGroup(num_inhib_neurons, [brian2.core.base.unused_brian_object]\n"
     ]
    }
   ],
   "source": [
    "from brian2 import *\n",
    "import numpy as np\n",
    "\n",
    "# Simulation parameters\n",
    "grid_size = 14  # 14x14 grid\n",
    "num_neurons = grid_size ** 2  # Total number of neurons in the input and first layer\n",
    "\n",
    "# Generate a 14x14 input array (example: random values as input firing rates)\n",
    "neuron_inputs_flat = neuron_inputs.input_train[0].flatten()\n",
    "\n",
    "# Create a PoissonGroup to handle Poisson spike generation\n",
    "poisson_group = PoissonGroup(num_neurons, rates=neuron_inputs_flat * Hz)\n",
    "# Create the first layer of neurons, which will receive input from the Poisson neurons\n",
    "# first_layer = NeuronGroup(num_neurons,\n",
    "#                           '''\n",
    "#                           ge : siemens\n",
    "#                           x : integer (constant)\n",
    "#                           y : integer (constant)\n",
    "#                           ''')\n",
    "\n",
    "# # Assign x and y coordinates to the first layer neurons\n",
    "# first_layer.x = x_coords\n",
    "# first_layer.y = y_coords\n",
    "# Manually create x and y coordinates for the PoissonGroup\n",
    "x_coords = np.array([i // grid_size for i in range(num_neurons)])\n",
    "y_coords = np.array([i % grid_size for i in range(num_neurons)])\n",
    "\n",
    "\n",
    "# Create synaptic connections where the x, y coordinates of both groups match\n",
    "lambda_input = 0.4 * nsiemens\n",
    "s_input = Synapses(poisson_group, first_layer, on_pre='ge_post += lambda_input')\n",
    "\n",
    "# Now connect neurons where the x, y coordinates match\n",
    "s_input.connect(condition='(i // grid_size == j // grid_size) and (i % grid_size == j % grid_size)')\n"
   ]
  },
  {
   "cell_type": "markdown",
   "metadata": {},
   "source": [
    "Great, now let's connect the interneurons and then get the simulation up and running\n"
   ]
  },
  {
   "cell_type": "code",
   "execution_count": 19,
   "metadata": {},
   "outputs": [
    {
     "name": "stderr",
     "output_type": "stream",
     "text": [
      "WARNING    The object 'synapses_3' is getting deleted, but was never included in a network. This probably means that you did not store the object reference in a variable, or that the variable was not used to construct the network.\n",
      "The object was created here (most recent call only):\n",
      "  File '/var/folders/kt/dvpckm751r1656f50_b2ptl00000gn/T/ipykernel_55868/398250973.py', line 38, in <module>\n",
      "    syn_inhib = Synapses(inhib_layer, first_layer, on_pre='ge_post += w_inhib') [brian2.core.base.unused_brian_object]\n",
      "WARNING    The object 'neurongroup_2' is getting deleted, but was never included in a network. This probably means that you did not store the object reference in a variable, or that the variable was not used to construct the network.\n",
      "The object was created here (most recent call only):\n",
      "  File '/var/folders/kt/dvpckm751r1656f50_b2ptl00000gn/T/ipykernel_55868/398250973.py', line 19, in <module>\n",
      "    inhib_layer = NeuronGroup(num_inhib_neurons, [brian2.core.base.unused_brian_object]\n"
     ]
    },
    {
     "ename": "BrianObjectException",
     "evalue": "Error encountered with object named 'neurongroup_3_stateupdater'.\nObject was created here (most recent call only, full details in debug log):\n  File '/Users/jreid/Dropbox/dphil/programming/spikes/spikes/network/neurons.py', line 133, in create_neuron_layer\n    neurons = NeuronGroup(\n\nAn error occurred when preparing an object. (See above for original error message and traceback.)",
     "output_type": "error",
     "traceback": [
      "\u001b[0;31m---------------------------------------------------------------------------\u001b[0m",
      "\u001b[0;31mUnsupportedEquationsException\u001b[0m             Traceback (most recent call last)",
      "File \u001b[0;32m~/Dropbox/dphil/programming/spikes/.venv/lib/python3.12/site-packages/brian2/core/network.py:1003\u001b[0m, in \u001b[0;36mNetwork.before_run\u001b[0;34m(self, run_namespace)\u001b[0m\n\u001b[1;32m   1002\u001b[0m \u001b[38;5;28;01mtry\u001b[39;00m:\n\u001b[0;32m-> 1003\u001b[0m     \u001b[43mobj\u001b[49m\u001b[38;5;241;43m.\u001b[39;49m\u001b[43mbefore_run\u001b[49m\u001b[43m(\u001b[49m\u001b[43mrun_namespace\u001b[49m\u001b[43m)\u001b[49m\n\u001b[1;32m   1004\u001b[0m \u001b[38;5;28;01mexcept\u001b[39;00m \u001b[38;5;167;01mException\u001b[39;00m \u001b[38;5;28;01mas\u001b[39;00m ex:\n",
      "File \u001b[0;32m~/Dropbox/dphil/programming/spikes/.venv/lib/python3.12/site-packages/brian2/groups/group.py:1266\u001b[0m, in \u001b[0;36mCodeRunner.before_run\u001b[0;34m(self, run_namespace)\u001b[0m\n\u001b[1;32m   1265\u001b[0m \u001b[38;5;28;01mdef\u001b[39;00m \u001b[38;5;21mbefore_run\u001b[39m(\u001b[38;5;28mself\u001b[39m, run_namespace):\n\u001b[0;32m-> 1266\u001b[0m     \u001b[38;5;28;43mself\u001b[39;49m\u001b[38;5;241;43m.\u001b[39;49m\u001b[43mcreate_code_objects\u001b[49m\u001b[43m(\u001b[49m\u001b[43mrun_namespace\u001b[49m\u001b[43m)\u001b[49m\n\u001b[1;32m   1267\u001b[0m     \u001b[38;5;28msuper\u001b[39m()\u001b[38;5;241m.\u001b[39mbefore_run(run_namespace)\n",
      "File \u001b[0;32m~/Dropbox/dphil/programming/spikes/.venv/lib/python3.12/site-packages/brian2/groups/group.py:1259\u001b[0m, in \u001b[0;36mCodeRunner.create_code_objects\u001b[0;34m(self, run_namespace)\u001b[0m\n\u001b[1;32m   1256\u001b[0m \u001b[38;5;28;01mdef\u001b[39;00m \u001b[38;5;21mcreate_code_objects\u001b[39m(\u001b[38;5;28mself\u001b[39m, run_namespace):\n\u001b[1;32m   1257\u001b[0m     \u001b[38;5;66;03m# By default, we only have one code object for each CodeRunner.\u001b[39;00m\n\u001b[1;32m   1258\u001b[0m     \u001b[38;5;66;03m# Overwrite this function to use more than one.\u001b[39;00m\n\u001b[0;32m-> 1259\u001b[0m     code_object \u001b[38;5;241m=\u001b[39m \u001b[38;5;28;43mself\u001b[39;49m\u001b[38;5;241;43m.\u001b[39;49m\u001b[43mcreate_default_code_object\u001b[49m\u001b[43m(\u001b[49m\u001b[43mrun_namespace\u001b[49m\u001b[43m)\u001b[49m\n\u001b[1;32m   1260\u001b[0m     \u001b[38;5;28;01mif\u001b[39;00m code_object:\n",
      "File \u001b[0;32m~/Dropbox/dphil/programming/spikes/.venv/lib/python3.12/site-packages/brian2/groups/group.py:1230\u001b[0m, in \u001b[0;36mCodeRunner.create_default_code_object\u001b[0;34m(self, run_namespace)\u001b[0m\n\u001b[1;32m   1229\u001b[0m \u001b[38;5;28;01mdef\u001b[39;00m \u001b[38;5;21mcreate_default_code_object\u001b[39m(\u001b[38;5;28mself\u001b[39m, run_namespace):\n\u001b[0;32m-> 1230\u001b[0m     \u001b[38;5;28;43mself\u001b[39;49m\u001b[38;5;241;43m.\u001b[39;49m\u001b[43mupdate_abstract_code\u001b[49m\u001b[43m(\u001b[49m\u001b[43mrun_namespace\u001b[49m\u001b[38;5;241;43m=\u001b[39;49m\u001b[43mrun_namespace\u001b[49m\u001b[43m)\u001b[49m\n\u001b[1;32m   1231\u001b[0m     \u001b[38;5;66;03m# If the CodeRunner has variables, add them\u001b[39;00m\n",
      "File \u001b[0;32m~/Dropbox/dphil/programming/spikes/.venv/lib/python3.12/site-packages/brian2/groups/neurongroup.py:287\u001b[0m, in \u001b[0;36mStateUpdater.update_abstract_code\u001b[0;34m(self, run_namespace)\u001b[0m\n\u001b[1;32m    286\u001b[0m \u001b[38;5;28;01mif\u001b[39;00m \u001b[38;5;28mlen\u001b[39m(\u001b[38;5;28mself\u001b[39m\u001b[38;5;241m.\u001b[39mgroup\u001b[38;5;241m.\u001b[39mequations\u001b[38;5;241m.\u001b[39mdiff_eq_names) \u001b[38;5;241m>\u001b[39m \u001b[38;5;241m0\u001b[39m:\n\u001b[0;32m--> 287\u001b[0m     stateupdate_output \u001b[38;5;241m=\u001b[39m \u001b[43mStateUpdateMethod\u001b[49m\u001b[38;5;241;43m.\u001b[39;49m\u001b[43mapply_stateupdater\u001b[49m\u001b[43m(\u001b[49m\n\u001b[1;32m    288\u001b[0m \u001b[43m        \u001b[49m\u001b[38;5;28;43mself\u001b[39;49m\u001b[38;5;241;43m.\u001b[39;49m\u001b[43mgroup\u001b[49m\u001b[38;5;241;43m.\u001b[39;49m\u001b[43mequations\u001b[49m\u001b[43m,\u001b[49m\n\u001b[1;32m    289\u001b[0m \u001b[43m        \u001b[49m\u001b[43mvariables\u001b[49m\u001b[43m,\u001b[49m\n\u001b[1;32m    290\u001b[0m \u001b[43m        \u001b[49m\u001b[38;5;28;43mself\u001b[39;49m\u001b[38;5;241;43m.\u001b[39;49m\u001b[43mmethod_choice\u001b[49m\u001b[43m,\u001b[49m\n\u001b[1;32m    291\u001b[0m \u001b[43m        \u001b[49m\u001b[43mmethod_options\u001b[49m\u001b[38;5;241;43m=\u001b[39;49m\u001b[38;5;28;43mself\u001b[39;49m\u001b[38;5;241;43m.\u001b[39;49m\u001b[43mmethod_options\u001b[49m\u001b[43m,\u001b[49m\n\u001b[1;32m    292\u001b[0m \u001b[43m        \u001b[49m\u001b[43mgroup_name\u001b[49m\u001b[38;5;241;43m=\u001b[39;49m\u001b[38;5;28;43mself\u001b[39;49m\u001b[38;5;241;43m.\u001b[39;49m\u001b[43mgroup\u001b[49m\u001b[38;5;241;43m.\u001b[39;49m\u001b[43mname\u001b[49m\u001b[43m,\u001b[49m\n\u001b[1;32m    293\u001b[0m \u001b[43m    \u001b[49m\u001b[43m)\u001b[49m\n\u001b[1;32m    294\u001b[0m     \u001b[38;5;28;01mif\u001b[39;00m \u001b[38;5;28misinstance\u001b[39m(stateupdate_output, \u001b[38;5;28mstr\u001b[39m):\n",
      "File \u001b[0;32m~/Dropbox/dphil/programming/spikes/.venv/lib/python3.12/site-packages/brian2/utils/caching.py:107\u001b[0m, in \u001b[0;36mcached.<locals>.cached_func\u001b[0;34m(*args, **kwds)\u001b[0m\n\u001b[1;32m    106\u001b[0m     func\u001b[38;5;241m.\u001b[39m_cache_statistics\u001b[38;5;241m.\u001b[39mmisses \u001b[38;5;241m+\u001b[39m\u001b[38;5;241m=\u001b[39m \u001b[38;5;241m1\u001b[39m\n\u001b[0;32m--> 107\u001b[0m     func\u001b[38;5;241m.\u001b[39m_cache[cache_key] \u001b[38;5;241m=\u001b[39m \u001b[43mfunc\u001b[49m\u001b[43m(\u001b[49m\u001b[38;5;241;43m*\u001b[39;49m\u001b[43margs\u001b[49m\u001b[43m,\u001b[49m\u001b[43m \u001b[49m\u001b[38;5;241;43m*\u001b[39;49m\u001b[38;5;241;43m*\u001b[39;49m\u001b[43mkwds\u001b[49m\u001b[43m)\u001b[49m\n\u001b[1;32m    108\u001b[0m \u001b[38;5;28;01mreturn\u001b[39;00m func\u001b[38;5;241m.\u001b[39m_cache[cache_key]\n",
      "File \u001b[0;32m~/Dropbox/dphil/programming/spikes/.venv/lib/python3.12/site-packages/brian2/stateupdaters/base.py:246\u001b[0m, in \u001b[0;36mStateUpdateMethod.apply_stateupdater\u001b[0;34m(equations, variables, method, method_options, group_name)\u001b[0m\n\u001b[1;32m    245\u001b[0m start_time \u001b[38;5;241m=\u001b[39m time\u001b[38;5;241m.\u001b[39mtime()\n\u001b[0;32m--> 246\u001b[0m code \u001b[38;5;241m=\u001b[39m \u001b[43mstateupdater\u001b[49m\u001b[43m(\u001b[49m\u001b[43mequations\u001b[49m\u001b[43m,\u001b[49m\u001b[43m \u001b[49m\u001b[43mvariables\u001b[49m\u001b[43m,\u001b[49m\u001b[43m \u001b[49m\u001b[43mmethod_options\u001b[49m\u001b[43m)\u001b[49m\n\u001b[1;32m    247\u001b[0m method_time \u001b[38;5;241m=\u001b[39m time\u001b[38;5;241m.\u001b[39mtime() \u001b[38;5;241m-\u001b[39m start_time\n",
      "File \u001b[0;32m~/Dropbox/dphil/programming/spikes/.venv/lib/python3.12/site-packages/brian2/utils/caching.py:107\u001b[0m, in \u001b[0;36mcached.<locals>.cached_func\u001b[0;34m(*args, **kwds)\u001b[0m\n\u001b[1;32m    106\u001b[0m     func\u001b[38;5;241m.\u001b[39m_cache_statistics\u001b[38;5;241m.\u001b[39mmisses \u001b[38;5;241m+\u001b[39m\u001b[38;5;241m=\u001b[39m \u001b[38;5;241m1\u001b[39m\n\u001b[0;32m--> 107\u001b[0m     func\u001b[38;5;241m.\u001b[39m_cache[cache_key] \u001b[38;5;241m=\u001b[39m \u001b[43mfunc\u001b[49m\u001b[43m(\u001b[49m\u001b[38;5;241;43m*\u001b[39;49m\u001b[43margs\u001b[49m\u001b[43m,\u001b[49m\u001b[43m \u001b[49m\u001b[38;5;241;43m*\u001b[39;49m\u001b[38;5;241;43m*\u001b[39;49m\u001b[43mkwds\u001b[49m\u001b[43m)\u001b[49m\n\u001b[1;32m    108\u001b[0m \u001b[38;5;28;01mreturn\u001b[39;00m func\u001b[38;5;241m.\u001b[39m_cache[cache_key]\n",
      "File \u001b[0;32m~/Dropbox/dphil/programming/spikes/.venv/lib/python3.12/site-packages/brian2/stateupdaters/exact.py:177\u001b[0m, in \u001b[0;36mLinearStateUpdater.__call__\u001b[0;34m(self, equations, variables, method_options)\u001b[0m\n\u001b[1;32m    176\u001b[0m \u001b[38;5;28;01mif\u001b[39;00m equations\u001b[38;5;241m.\u001b[39mis_stochastic:\n\u001b[0;32m--> 177\u001b[0m     \u001b[38;5;28;01mraise\u001b[39;00m UnsupportedEquationsException(\n\u001b[1;32m    178\u001b[0m         \u001b[38;5;124m\"\u001b[39m\u001b[38;5;124mCannot solve stochastic equations with this state updater.\u001b[39m\u001b[38;5;124m\"\u001b[39m\n\u001b[1;32m    179\u001b[0m     )\n\u001b[1;32m    180\u001b[0m \u001b[38;5;28;01mif\u001b[39;00m variables \u001b[38;5;129;01mis\u001b[39;00m \u001b[38;5;28;01mNone\u001b[39;00m:\n",
      "\u001b[0;31mUnsupportedEquationsException\u001b[0m: Cannot solve stochastic equations with this state updater.",
      "\nThe above exception was the direct cause of the following exception:\n",
      "\u001b[0;31mBrianObjectException\u001b[0m                      Traceback (most recent call last)",
      "Cell \u001b[0;32mIn[19], line 59\u001b[0m\n\u001b[1;32m     56\u001b[0m spike_mon_inhib \u001b[38;5;241m=\u001b[39m SpikeMonitor(inhib_layer)\n\u001b[1;32m     58\u001b[0m \u001b[38;5;66;03m# Run the simulation\u001b[39;00m\n\u001b[0;32m---> 59\u001b[0m \u001b[43mrun\u001b[49m\u001b[43m(\u001b[49m\u001b[38;5;241;43m100\u001b[39;49m\u001b[43m \u001b[49m\u001b[38;5;241;43m*\u001b[39;49m\u001b[43m \u001b[49m\u001b[43mms\u001b[49m\u001b[43m)\u001b[49m\n\u001b[1;32m     61\u001b[0m \u001b[38;5;66;03m# Print spike times to check the simulation\u001b[39;00m\n\u001b[1;32m     62\u001b[0m \u001b[38;5;28mprint\u001b[39m(\u001b[38;5;124m\"\u001b[39m\u001b[38;5;124mMain layer spikes:\u001b[39m\u001b[38;5;124m\"\u001b[39m)\n",
      "File \u001b[0;32m~/Dropbox/dphil/programming/spikes/.venv/lib/python3.12/site-packages/brian2/units/fundamentalunits.py:2652\u001b[0m, in \u001b[0;36mcheck_units.<locals>.do_check_units.<locals>.new_f\u001b[0;34m(*args, **kwds)\u001b[0m\n\u001b[1;32m   2642\u001b[0m             error_message \u001b[38;5;241m=\u001b[39m (\n\u001b[1;32m   2643\u001b[0m                 \u001b[38;5;124mf\u001b[39m\u001b[38;5;124m\"\u001b[39m\u001b[38;5;124mFunction \u001b[39m\u001b[38;5;124m'\u001b[39m\u001b[38;5;132;01m{\u001b[39;00mf\u001b[38;5;241m.\u001b[39m\u001b[38;5;18m__name__\u001b[39m\u001b[38;5;132;01m}\u001b[39;00m\u001b[38;5;124m'\u001b[39m\u001b[38;5;124m \u001b[39m\u001b[38;5;124m\"\u001b[39m\n\u001b[1;32m   2644\u001b[0m                 \u001b[38;5;124m\"\u001b[39m\u001b[38;5;124mexpected a quantity with unit \u001b[39m\u001b[38;5;124m\"\u001b[39m\n\u001b[1;32m   2645\u001b[0m                 \u001b[38;5;124mf\u001b[39m\u001b[38;5;124m\"\u001b[39m\u001b[38;5;132;01m{\u001b[39;00munit\u001b[38;5;132;01m}\u001b[39;00m\u001b[38;5;124m for argument \u001b[39m\u001b[38;5;124m'\u001b[39m\u001b[38;5;132;01m{\u001b[39;00mk\u001b[38;5;132;01m}\u001b[39;00m\u001b[38;5;124m'\u001b[39m\u001b[38;5;124m but got \u001b[39m\u001b[38;5;124m\"\u001b[39m\n\u001b[1;32m   2646\u001b[0m                 \u001b[38;5;124mf\u001b[39m\u001b[38;5;124m\"\u001b[39m\u001b[38;5;124m'\u001b[39m\u001b[38;5;132;01m{\u001b[39;00mvalue\u001b[38;5;132;01m}\u001b[39;00m\u001b[38;5;124m'\u001b[39m\u001b[38;5;124m\"\u001b[39m\n\u001b[1;32m   2647\u001b[0m             )\n\u001b[1;32m   2648\u001b[0m             \u001b[38;5;28;01mraise\u001b[39;00m DimensionMismatchError(\n\u001b[1;32m   2649\u001b[0m                 error_message, get_dimensions(newkeyset[k])\n\u001b[1;32m   2650\u001b[0m             )\n\u001b[0;32m-> 2652\u001b[0m result \u001b[38;5;241m=\u001b[39m \u001b[43mf\u001b[49m\u001b[43m(\u001b[49m\u001b[38;5;241;43m*\u001b[39;49m\u001b[43margs\u001b[49m\u001b[43m,\u001b[49m\u001b[43m \u001b[49m\u001b[38;5;241;43m*\u001b[39;49m\u001b[38;5;241;43m*\u001b[39;49m\u001b[43mkwds\u001b[49m\u001b[43m)\u001b[49m\n\u001b[1;32m   2653\u001b[0m \u001b[38;5;28;01mif\u001b[39;00m \u001b[38;5;124m\"\u001b[39m\u001b[38;5;124mresult\u001b[39m\u001b[38;5;124m\"\u001b[39m \u001b[38;5;129;01min\u001b[39;00m au:\n\u001b[1;32m   2654\u001b[0m     \u001b[38;5;28;01mif\u001b[39;00m \u001b[38;5;28misinstance\u001b[39m(au[\u001b[38;5;124m\"\u001b[39m\u001b[38;5;124mresult\u001b[39m\u001b[38;5;124m\"\u001b[39m], Callable) \u001b[38;5;129;01mand\u001b[39;00m au[\u001b[38;5;124m\"\u001b[39m\u001b[38;5;124mresult\u001b[39m\u001b[38;5;124m\"\u001b[39m] \u001b[38;5;129;01mnot\u001b[39;00m \u001b[38;5;129;01min\u001b[39;00m (\n\u001b[1;32m   2655\u001b[0m         \u001b[38;5;28mbool\u001b[39m,\n\u001b[1;32m   2656\u001b[0m         np\u001b[38;5;241m.\u001b[39mbool_,\n\u001b[1;32m   2657\u001b[0m     ):\n",
      "File \u001b[0;32m~/Dropbox/dphil/programming/spikes/.venv/lib/python3.12/site-packages/brian2/core/magic.py:407\u001b[0m, in \u001b[0;36mrun\u001b[0;34m(duration, report, report_period, namespace, profile, level)\u001b[0m\n\u001b[1;32m    334\u001b[0m \u001b[38;5;129m@check_units\u001b[39m(duration\u001b[38;5;241m=\u001b[39msecond, report_period\u001b[38;5;241m=\u001b[39msecond)\n\u001b[1;32m    335\u001b[0m \u001b[38;5;28;01mdef\u001b[39;00m \u001b[38;5;21mrun\u001b[39m(\n\u001b[1;32m    336\u001b[0m     duration,\n\u001b[0;32m   (...)\u001b[0m\n\u001b[1;32m    341\u001b[0m     level\u001b[38;5;241m=\u001b[39m\u001b[38;5;241m0\u001b[39m,\n\u001b[1;32m    342\u001b[0m ):\n\u001b[1;32m    343\u001b[0m \u001b[38;5;250m    \u001b[39m\u001b[38;5;124;03m\"\"\"\u001b[39;00m\n\u001b[1;32m    344\u001b[0m \u001b[38;5;124;03m    run(duration, report=None, report_period=10*second, namespace=None, level=0)\u001b[39;00m\n\u001b[1;32m    345\u001b[0m \n\u001b[0;32m   (...)\u001b[0m\n\u001b[1;32m    405\u001b[0m \u001b[38;5;124;03m        intended use. See `MagicNetwork` for more details.\u001b[39;00m\n\u001b[1;32m    406\u001b[0m \u001b[38;5;124;03m    \"\"\"\u001b[39;00m\n\u001b[0;32m--> 407\u001b[0m     \u001b[38;5;28;01mreturn\u001b[39;00m \u001b[43mmagic_network\u001b[49m\u001b[38;5;241;43m.\u001b[39;49m\u001b[43mrun\u001b[49m\u001b[43m(\u001b[49m\n\u001b[1;32m    408\u001b[0m \u001b[43m        \u001b[49m\u001b[43mduration\u001b[49m\u001b[43m,\u001b[49m\n\u001b[1;32m    409\u001b[0m \u001b[43m        \u001b[49m\u001b[43mreport\u001b[49m\u001b[38;5;241;43m=\u001b[39;49m\u001b[43mreport\u001b[49m\u001b[43m,\u001b[49m\n\u001b[1;32m    410\u001b[0m \u001b[43m        \u001b[49m\u001b[43mreport_period\u001b[49m\u001b[38;5;241;43m=\u001b[39;49m\u001b[43mreport_period\u001b[49m\u001b[43m,\u001b[49m\n\u001b[1;32m    411\u001b[0m \u001b[43m        \u001b[49m\u001b[43mnamespace\u001b[49m\u001b[38;5;241;43m=\u001b[39;49m\u001b[43mnamespace\u001b[49m\u001b[43m,\u001b[49m\n\u001b[1;32m    412\u001b[0m \u001b[43m        \u001b[49m\u001b[43mprofile\u001b[49m\u001b[38;5;241;43m=\u001b[39;49m\u001b[43mprofile\u001b[49m\u001b[43m,\u001b[49m\n\u001b[1;32m    413\u001b[0m \u001b[43m        \u001b[49m\u001b[43mlevel\u001b[49m\u001b[38;5;241;43m=\u001b[39;49m\u001b[38;5;241;43m2\u001b[39;49m\u001b[43m \u001b[49m\u001b[38;5;241;43m+\u001b[39;49m\u001b[43m \u001b[49m\u001b[43mlevel\u001b[49m\u001b[43m,\u001b[49m\n\u001b[1;32m    414\u001b[0m \u001b[43m    \u001b[49m\u001b[43m)\u001b[49m\n",
      "File \u001b[0;32m~/Dropbox/dphil/programming/spikes/.venv/lib/python3.12/site-packages/brian2/core/magic.py:248\u001b[0m, in \u001b[0;36mMagicNetwork.run\u001b[0;34m(self, duration, report, report_period, namespace, profile, level)\u001b[0m\n\u001b[1;32m    238\u001b[0m \u001b[38;5;28;01mdef\u001b[39;00m \u001b[38;5;21mrun\u001b[39m(\n\u001b[1;32m    239\u001b[0m     \u001b[38;5;28mself\u001b[39m,\n\u001b[1;32m    240\u001b[0m     duration,\n\u001b[0;32m   (...)\u001b[0m\n\u001b[1;32m    245\u001b[0m     level\u001b[38;5;241m=\u001b[39m\u001b[38;5;241m0\u001b[39m,\n\u001b[1;32m    246\u001b[0m ):\n\u001b[1;32m    247\u001b[0m     \u001b[38;5;28mself\u001b[39m\u001b[38;5;241m.\u001b[39m_update_magic_objects(level\u001b[38;5;241m=\u001b[39mlevel \u001b[38;5;241m+\u001b[39m \u001b[38;5;241m1\u001b[39m)\n\u001b[0;32m--> 248\u001b[0m     \u001b[43mNetwork\u001b[49m\u001b[38;5;241;43m.\u001b[39;49m\u001b[43mrun\u001b[49m\u001b[43m(\u001b[49m\n\u001b[1;32m    249\u001b[0m \u001b[43m        \u001b[49m\u001b[38;5;28;43mself\u001b[39;49m\u001b[43m,\u001b[49m\n\u001b[1;32m    250\u001b[0m \u001b[43m        \u001b[49m\u001b[43mduration\u001b[49m\u001b[43m,\u001b[49m\n\u001b[1;32m    251\u001b[0m \u001b[43m        \u001b[49m\u001b[43mreport\u001b[49m\u001b[38;5;241;43m=\u001b[39;49m\u001b[43mreport\u001b[49m\u001b[43m,\u001b[49m\n\u001b[1;32m    252\u001b[0m \u001b[43m        \u001b[49m\u001b[43mreport_period\u001b[49m\u001b[38;5;241;43m=\u001b[39;49m\u001b[43mreport_period\u001b[49m\u001b[43m,\u001b[49m\n\u001b[1;32m    253\u001b[0m \u001b[43m        \u001b[49m\u001b[43mnamespace\u001b[49m\u001b[38;5;241;43m=\u001b[39;49m\u001b[43mnamespace\u001b[49m\u001b[43m,\u001b[49m\n\u001b[1;32m    254\u001b[0m \u001b[43m        \u001b[49m\u001b[43mprofile\u001b[49m\u001b[38;5;241;43m=\u001b[39;49m\u001b[43mprofile\u001b[49m\u001b[43m,\u001b[49m\n\u001b[1;32m    255\u001b[0m \u001b[43m        \u001b[49m\u001b[43mlevel\u001b[49m\u001b[38;5;241;43m=\u001b[39;49m\u001b[43mlevel\u001b[49m\u001b[43m \u001b[49m\u001b[38;5;241;43m+\u001b[39;49m\u001b[43m \u001b[49m\u001b[38;5;241;43m1\u001b[39;49m\u001b[43m,\u001b[49m\n\u001b[1;32m    256\u001b[0m \u001b[43m    \u001b[49m\u001b[43m)\u001b[49m\n",
      "File \u001b[0;32m~/Dropbox/dphil/programming/spikes/.venv/lib/python3.12/site-packages/brian2/core/base.py:346\u001b[0m, in \u001b[0;36mdevice_override.<locals>.device_override_decorator.<locals>.device_override_decorated_function\u001b[0;34m(*args, **kwds)\u001b[0m\n\u001b[1;32m    344\u001b[0m     \u001b[38;5;28;01mreturn\u001b[39;00m \u001b[38;5;28mgetattr\u001b[39m(curdev, name)(\u001b[38;5;241m*\u001b[39margs, \u001b[38;5;241m*\u001b[39m\u001b[38;5;241m*\u001b[39mkwds)\n\u001b[1;32m    345\u001b[0m \u001b[38;5;28;01melse\u001b[39;00m:\n\u001b[0;32m--> 346\u001b[0m     \u001b[38;5;28;01mreturn\u001b[39;00m \u001b[43mfunc\u001b[49m\u001b[43m(\u001b[49m\u001b[38;5;241;43m*\u001b[39;49m\u001b[43margs\u001b[49m\u001b[43m,\u001b[49m\u001b[43m \u001b[49m\u001b[38;5;241;43m*\u001b[39;49m\u001b[38;5;241;43m*\u001b[39;49m\u001b[43mkwds\u001b[49m\u001b[43m)\u001b[49m\n",
      "File \u001b[0;32m~/Dropbox/dphil/programming/spikes/.venv/lib/python3.12/site-packages/brian2/units/fundamentalunits.py:2652\u001b[0m, in \u001b[0;36mcheck_units.<locals>.do_check_units.<locals>.new_f\u001b[0;34m(*args, **kwds)\u001b[0m\n\u001b[1;32m   2642\u001b[0m             error_message \u001b[38;5;241m=\u001b[39m (\n\u001b[1;32m   2643\u001b[0m                 \u001b[38;5;124mf\u001b[39m\u001b[38;5;124m\"\u001b[39m\u001b[38;5;124mFunction \u001b[39m\u001b[38;5;124m'\u001b[39m\u001b[38;5;132;01m{\u001b[39;00mf\u001b[38;5;241m.\u001b[39m\u001b[38;5;18m__name__\u001b[39m\u001b[38;5;132;01m}\u001b[39;00m\u001b[38;5;124m'\u001b[39m\u001b[38;5;124m \u001b[39m\u001b[38;5;124m\"\u001b[39m\n\u001b[1;32m   2644\u001b[0m                 \u001b[38;5;124m\"\u001b[39m\u001b[38;5;124mexpected a quantity with unit \u001b[39m\u001b[38;5;124m\"\u001b[39m\n\u001b[1;32m   2645\u001b[0m                 \u001b[38;5;124mf\u001b[39m\u001b[38;5;124m\"\u001b[39m\u001b[38;5;132;01m{\u001b[39;00munit\u001b[38;5;132;01m}\u001b[39;00m\u001b[38;5;124m for argument \u001b[39m\u001b[38;5;124m'\u001b[39m\u001b[38;5;132;01m{\u001b[39;00mk\u001b[38;5;132;01m}\u001b[39;00m\u001b[38;5;124m'\u001b[39m\u001b[38;5;124m but got \u001b[39m\u001b[38;5;124m\"\u001b[39m\n\u001b[1;32m   2646\u001b[0m                 \u001b[38;5;124mf\u001b[39m\u001b[38;5;124m\"\u001b[39m\u001b[38;5;124m'\u001b[39m\u001b[38;5;132;01m{\u001b[39;00mvalue\u001b[38;5;132;01m}\u001b[39;00m\u001b[38;5;124m'\u001b[39m\u001b[38;5;124m\"\u001b[39m\n\u001b[1;32m   2647\u001b[0m             )\n\u001b[1;32m   2648\u001b[0m             \u001b[38;5;28;01mraise\u001b[39;00m DimensionMismatchError(\n\u001b[1;32m   2649\u001b[0m                 error_message, get_dimensions(newkeyset[k])\n\u001b[1;32m   2650\u001b[0m             )\n\u001b[0;32m-> 2652\u001b[0m result \u001b[38;5;241m=\u001b[39m \u001b[43mf\u001b[49m\u001b[43m(\u001b[49m\u001b[38;5;241;43m*\u001b[39;49m\u001b[43margs\u001b[49m\u001b[43m,\u001b[49m\u001b[43m \u001b[49m\u001b[38;5;241;43m*\u001b[39;49m\u001b[38;5;241;43m*\u001b[39;49m\u001b[43mkwds\u001b[49m\u001b[43m)\u001b[49m\n\u001b[1;32m   2653\u001b[0m \u001b[38;5;28;01mif\u001b[39;00m \u001b[38;5;124m\"\u001b[39m\u001b[38;5;124mresult\u001b[39m\u001b[38;5;124m\"\u001b[39m \u001b[38;5;129;01min\u001b[39;00m au:\n\u001b[1;32m   2654\u001b[0m     \u001b[38;5;28;01mif\u001b[39;00m \u001b[38;5;28misinstance\u001b[39m(au[\u001b[38;5;124m\"\u001b[39m\u001b[38;5;124mresult\u001b[39m\u001b[38;5;124m\"\u001b[39m], Callable) \u001b[38;5;129;01mand\u001b[39;00m au[\u001b[38;5;124m\"\u001b[39m\u001b[38;5;124mresult\u001b[39m\u001b[38;5;124m\"\u001b[39m] \u001b[38;5;129;01mnot\u001b[39;00m \u001b[38;5;129;01min\u001b[39;00m (\n\u001b[1;32m   2655\u001b[0m         \u001b[38;5;28mbool\u001b[39m,\n\u001b[1;32m   2656\u001b[0m         np\u001b[38;5;241m.\u001b[39mbool_,\n\u001b[1;32m   2657\u001b[0m     ):\n",
      "File \u001b[0;32m~/Dropbox/dphil/programming/spikes/.venv/lib/python3.12/site-packages/brian2/core/network.py:1141\u001b[0m, in \u001b[0;36mNetwork.run\u001b[0;34m(self, duration, report, report_period, namespace, profile, level)\u001b[0m\n\u001b[1;32m   1138\u001b[0m \u001b[38;5;28;01mif\u001b[39;00m namespace \u001b[38;5;129;01mis\u001b[39;00m \u001b[38;5;28;01mNone\u001b[39;00m:\n\u001b[1;32m   1139\u001b[0m     namespace \u001b[38;5;241m=\u001b[39m get_local_namespace(level\u001b[38;5;241m=\u001b[39mlevel \u001b[38;5;241m+\u001b[39m \u001b[38;5;241m3\u001b[39m)\n\u001b[0;32m-> 1141\u001b[0m \u001b[38;5;28;43mself\u001b[39;49m\u001b[38;5;241;43m.\u001b[39;49m\u001b[43mbefore_run\u001b[49m\u001b[43m(\u001b[49m\u001b[43mnamespace\u001b[49m\u001b[43m)\u001b[49m\n\u001b[1;32m   1143\u001b[0m \u001b[38;5;28;01mif\u001b[39;00m \u001b[38;5;28mlen\u001b[39m(all_objects) \u001b[38;5;241m==\u001b[39m \u001b[38;5;241m0\u001b[39m:\n\u001b[1;32m   1144\u001b[0m     \u001b[38;5;28;01mreturn\u001b[39;00m  \u001b[38;5;66;03m# TODO: raise an error? warning?\u001b[39;00m\n",
      "File \u001b[0;32m~/Dropbox/dphil/programming/spikes/.venv/lib/python3.12/site-packages/brian2/core/base.py:346\u001b[0m, in \u001b[0;36mdevice_override.<locals>.device_override_decorator.<locals>.device_override_decorated_function\u001b[0;34m(*args, **kwds)\u001b[0m\n\u001b[1;32m    344\u001b[0m     \u001b[38;5;28;01mreturn\u001b[39;00m \u001b[38;5;28mgetattr\u001b[39m(curdev, name)(\u001b[38;5;241m*\u001b[39margs, \u001b[38;5;241m*\u001b[39m\u001b[38;5;241m*\u001b[39mkwds)\n\u001b[1;32m    345\u001b[0m \u001b[38;5;28;01melse\u001b[39;00m:\n\u001b[0;32m--> 346\u001b[0m     \u001b[38;5;28;01mreturn\u001b[39;00m \u001b[43mfunc\u001b[49m\u001b[43m(\u001b[49m\u001b[38;5;241;43m*\u001b[39;49m\u001b[43margs\u001b[49m\u001b[43m,\u001b[49m\u001b[43m \u001b[49m\u001b[38;5;241;43m*\u001b[39;49m\u001b[38;5;241;43m*\u001b[39;49m\u001b[43mkwds\u001b[49m\u001b[43m)\u001b[49m\n",
      "File \u001b[0;32m~/Dropbox/dphil/programming/spikes/.venv/lib/python3.12/site-packages/brian2/core/network.py:1005\u001b[0m, in \u001b[0;36mNetwork.before_run\u001b[0;34m(self, run_namespace)\u001b[0m\n\u001b[1;32m   1003\u001b[0m             obj\u001b[38;5;241m.\u001b[39mbefore_run(run_namespace)\n\u001b[1;32m   1004\u001b[0m         \u001b[38;5;28;01mexcept\u001b[39;00m \u001b[38;5;167;01mException\u001b[39;00m \u001b[38;5;28;01mas\u001b[39;00m ex:\n\u001b[0;32m-> 1005\u001b[0m             \u001b[38;5;28;01mraise\u001b[39;00m BrianObjectException(\n\u001b[1;32m   1006\u001b[0m                 \u001b[38;5;124m\"\u001b[39m\u001b[38;5;124mAn error occurred when preparing an object.\u001b[39m\u001b[38;5;124m\"\u001b[39m, obj\n\u001b[1;32m   1007\u001b[0m             ) \u001b[38;5;28;01mfrom\u001b[39;00m \u001b[38;5;21;01mex\u001b[39;00m\n\u001b[1;32m   1009\u001b[0m \u001b[38;5;66;03m# Check that no object has been run as part of another network before\u001b[39;00m\n\u001b[1;32m   1010\u001b[0m \u001b[38;5;28;01mfor\u001b[39;00m obj \u001b[38;5;129;01min\u001b[39;00m all_objects:\n",
      "\u001b[0;31mBrianObjectException\u001b[0m: Error encountered with object named 'neurongroup_3_stateupdater'.\nObject was created here (most recent call only, full details in debug log):\n  File '/Users/jreid/Dropbox/dphil/programming/spikes/spikes/network/neurons.py', line 133, in create_neuron_layer\n    neurons = NeuronGroup(\n\nAn error occurred when preparing an object. (See above for original error message and traceback.)"
     ]
    }
   ],
   "source": [
    "# Simulation parameters\n",
    "grid_size = 14  # 14x14 grid for the main layer\n",
    "inhib_size = 7  # 7x7 grid for the inhibitory layer\n",
    "num_neurons = grid_size ** 2  # Total number of neurons in the main layer\n",
    "num_inhib_neurons = inhib_size ** 2  # Total number of neurons in the inhibitory layer\n",
    "radius = 7  # Radius for fanning out connections\n",
    "\n",
    "# Generate a 14x14 input array (example: random values as input firing rates)\n",
    "np.random.seed(42)  # For reproducibility\n",
    "neuron_inputs_flat = np.random.rand(num_neurons) * 20  # Random firing rates between 0 and 20 Hz\n",
    "\n",
    "# Create the inhibitory neurons (7x7 grid)\n",
    "inhib_layer = NeuronGroup(num_inhib_neurons,\n",
    "                          '''\n",
    "                          gi : siemens\n",
    "                          x : integer (constant)\n",
    "                          y : integer (constant)\n",
    "                          ''',\n",
    "                          threshold='gi > 1*nsiemens', reset='gi = 0*siemens')  # Define threshold for spiking\n",
    "\n",
    "# Assign x and y coordinates to the inhibitory layer neurons\n",
    "x_coords_inhib = np.array([i // inhib_size for i in range(num_inhib_neurons)])\n",
    "y_coords_inhib = np.array([i % inhib_size for i in range(num_inhib_neurons)])\n",
    "inhib_layer.x = x_coords_inhib\n",
    "inhib_layer.y = y_coords_inhib\n",
    "\n",
    "# Create synaptic connections where each neuron in the inhibitory layer\n",
    "# connects to a fan-out set of neurons in the main layer based on distance\n",
    "w_inhib = 0.4 * nsiemens  # Weight of the inhibitory synapse\n",
    "\n",
    "# Synapse between the inhibitory layer and the main layer\n",
    "syn_inhib = Synapses(inhib_layer, first_layer, on_pre='ge_post += w_inhib')\n",
    "\n",
    "# Connect neurons based on topologically corresponding distances\n",
    "for i in range(inhib_size):\n",
    "    for j in range(inhib_size):\n",
    "        # Center of the corresponding region in the main layer\n",
    "        center_x = i * 2 + 1  # Middle of the 2x2 square in the main layer\n",
    "        center_y = j * 2 + 1\n",
    "        \n",
    "        for m in range(grid_size):\n",
    "            for n in range(grid_size):\n",
    "                # Calculate the distance between the center and each neuron in the main layer\n",
    "                dist = np.sqrt((center_x - m) ** 2 + (center_y - n) ** 2)\n",
    "                \n",
    "                # Connect if the neuron is within the specified radius\n",
    "                if dist <= radius:\n",
    "                    main_idx = m * grid_size + n  # Convert (m, n) to main layer neuron index\n",
    "                    inhib_idx = i * inhib_size + j  # Convert (i, j) to inhibitory layer neuron index\n",
    "                    \n",
    "                    # Connect the inhibitory neuron to the corresponding main layer neurons\n",
    "                    syn_inhib.connect(i=inhib_idx, j=main_idx)\n",
    "\n",
    "# Define monitors for spikes\n",
    "spike_mon_main = SpikeMonitor(first_layer)\n",
    "spike_mon_inhib = SpikeMonitor(inhib_layer)\n",
    "\n",
    "# Run the simulation\n",
    "run(100 * ms)\n",
    "\n",
    "# Print spike times to check the simulation\n",
    "print(\"Main layer spikes:\")\n",
    "print(spike_mon_main.spike_trains())\n",
    "\n",
    "print(\"\\nInhibitory layer spikes:\")\n",
    "print(spike_mon_inhib.spike_trains())"
   ]
  },
  {
   "cell_type": "code",
   "execution_count": null,
   "metadata": {},
   "outputs": [],
   "source": [
    "S_input = Synapses(poisson_group,\n",
    "                                G_e,\n",
    "                                model='''\n",
    "                    w : 1\n",
    "                    dapre/dt = -apre/tau_pre : 1 (clock-driven)\n",
    "                    dapost/dt = -apost/tau_post : 1 (clock-driven)\n",
    "                    ''',\n",
    "                    on_pre='''\n",
    "                    ge_post += lambda_e * w\n",
    "                    apre += alpha_C * (1-apre)\n",
    "                    w += -w * apost * A_minus\n",
    "                    ''',\n",
    "                    on_post=f'''\n",
    "                    apost += alpha_D * (1-apost)\n",
    "                    w += (1-w) * apre * A_plus\n",
    "                    '''\n",
    "alpha_C = # synaptic_neurotransmitter_concentration"
   ]
  },
  {
   "cell_type": "markdown",
   "metadata": {},
   "source": [
    "def create_input_neuron(neuron_parameters=None, model=None):\n",
    "    if not model:\n",
    "        model = \"\"\"\n",
    "            dv/dt = (V_rest-v)/tau_m + (ge*(V_reversal_e-v) + gi*(V_reversal_i-v))/(tau_m*g_leak) + sigma*xi*(tau_m)**-0.5 : volt\n",
    "            dge/dt = -ge/tau_ee : siemens\n",
    "            dgi/dt = -gi/tau_ie : siemens\n",
    "            Cm : farad\n",
    "            g_leak : siemens\n",
    "            V_rest : volt\n",
    "            V_reversal_e : volt\n",
    "            V_reversal_i : volt\n",
    "            sigma : volt\n",
    "            tau_m : second\n",
    "            tau_ee : second\n",
    "            tau_ie : second\n",
    "            x : integer (constant)\n",
    "            y : integer (constant)\n",
    "            \"\"\"\n",
    "    if not neuron_parameters:\n",
    "        neuron_parameters = {\n",
    "            \"Cm\": 214 * pF,  # Membrane capacitance\n",
    "            \"g_leak\": 28 * nS,  # Leak conductance\n",
    "            \"V_rest\": -82 * mV,  # Resting membrane potential\n",
    "            \"V_threshold\": -53 * mV,  # Firing threshold\n",
    "            \"V_reset\": -58 * mV,  # Reset potential after spike\n",
    "            \"V_reversal_e\": 0 * mV,  # Excitatory reversal potential\n",
    "            \"V_reversal_i\": -70 * mV,  # Inhibitory reversal potential\n",
    "            \"t_refract\": 2 * ms,  # Refractory period\n",
    "            \"sigma\": 0.015 * mV,  # Noise intensity\n",
    "            \"tau_m\": 12 * ms,  # Membrane time constant\n",
    "            \"tau_ei\": 5\n",
    "            * ms,  # Synaptic time constant for excitatory synapses onto inhibitory neurons\n",
    "            \"tau_ii\": 5\n",
    "            * ms,  # Synaptic time constant for inhibitory synapses onto inhibitory neurons\n",
    "        }\n",
    "\n",
    "\n",
    "################# Defunct"
   ]
  },
  {
   "cell_type": "code",
   "execution_count": 2,
   "metadata": {},
   "outputs": [
    {
     "name": "stdout",
     "output_type": "stream",
     "text": [
      "NeuronParameters(membrane_potential=-60. * mvolt, threshold=-50. * mvolt, resting_potential=-65. * mvolt, refractory_period=5. * msecond, time_constant=10. * msecond)\n"
     ]
    }
   ],
   "source": [
    "from brian2 import *\n",
    "from dataclasses import dataclass, field\n",
    "\n",
    "# Define the data class with units, using default_factory for mutable types\n",
    "@dataclass\n",
    "class NeuronParameters:\n",
    "    membrane_potential: Quantity = field(default_factory=lambda: 0 * mvolt)\n",
    "    threshold: Quantity = field(default_factory=lambda: -50 * mvolt)\n",
    "    resting_potential: Quantity = field(default_factory=lambda: -65 * mvolt)\n",
    "    refractory_period: Quantity = field(default_factory=lambda: 5 * ms)\n",
    "    time_constant: Quantity = field(default_factory=lambda: 10 * ms)\n",
    "\n",
    "# Example usage\n",
    "neuron_params = NeuronParameters(membrane_potential=-60*mvolt)\n",
    "print(neuron_params)"
   ]
  }
 ],
 "metadata": {
  "kernelspec": {
   "display_name": ".venv",
   "language": "python",
   "name": "python3"
  },
  "language_info": {
   "codemirror_mode": {
    "name": "ipython",
    "version": 3
   },
   "file_extension": ".py",
   "mimetype": "text/x-python",
   "name": "python",
   "nbconvert_exporter": "python",
   "pygments_lexer": "ipython3",
   "version": "3.12.6"
  }
 },
 "nbformat": 4,
 "nbformat_minor": 2
}
