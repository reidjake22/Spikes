{
 "cells": [
  {
   "cell_type": "code",
   "execution_count": 28,
   "metadata": {},
   "outputs": [
    {
     "name": "stdout",
     "output_type": "stream",
     "text": [
      "[0.06190784 0.66477296 0.25189427 ... 0.64803586 0.40676823 0.0988304 ]\n",
      "[1.         0.96915794 0.         ... 0.96789925 0.         1.        ]\n"
     ]
    }
   ],
   "source": [
    "import pickle\n",
    "import matplotlib.pyplot as plt\n",
    "import numpy as np\n",
    "from brian2 import *\n",
    "\n",
    "with open(\"results/full_monty/dataset_i.pkl\", \"rb\") as file:\n",
    "    data = pickle.load(file)\n",
    "weights_and_delays = data[\"weights_and_delays\"]\n",
    "spikes = data[\"spikes\"]\n",
    "types = [\"efe\", \"ele\", \"ebe\", \"eli\", \"ile\"]\n",
    "\n",
    "with open(\"results/full_monty/initial_weights_i.pkl\", \"rb\") as file:\n",
    "    initial_data = pickle.load(file)\n",
    "\n",
    "print(initial_data[\"efe\"][1]['w'])\n",
    "print(data[\"weights_and_delays\"][\"efe\"][0]['w'])\n",
    "\n",
    "# Olfactory Ethics"
   ]
  },
  {
   "cell_type": "code",
   "execution_count": 29,
   "metadata": {},
   "outputs": [
    {
     "name": "stdout",
     "output_type": "stream",
     "text": [
      "131072\n"
     ]
    }
   ],
   "source": [
    "print(len(spikes[0]))"
   ]
  },
  {
   "cell_type": "code",
   "execution_count": null,
   "metadata": {},
   "outputs": [
    {
     "ename": "NameError",
     "evalue": "name 'types' is not defined",
     "output_type": "error",
     "traceback": [
      "\u001b[0;31m---------------------------------------------------------------------------\u001b[0m",
      "\u001b[0;31mNameError\u001b[0m                                 Traceback (most recent call last)",
      "Cell \u001b[0;32mIn[3], line 3\u001b[0m\n\u001b[1;32m      1\u001b[0m \u001b[38;5;28;01mwith\u001b[39;00m \u001b[38;5;28mopen\u001b[39m(\u001b[38;5;124m\"\u001b[39m\u001b[38;5;124mresults/full_monty/initial_weights.pkl\u001b[39m\u001b[38;5;124m\"\u001b[39m, \u001b[38;5;124m\"\u001b[39m\u001b[38;5;124mrb\u001b[39m\u001b[38;5;124m\"\u001b[39m) \u001b[38;5;28;01mas\u001b[39;00m file:\n\u001b[1;32m      2\u001b[0m     initial_weights \u001b[38;5;241m=\u001b[39m pickle\u001b[38;5;241m.\u001b[39mload(file)\n\u001b[0;32m----> 3\u001b[0m     \u001b[38;5;28;01mfor\u001b[39;00m \u001b[38;5;28mtype\u001b[39m \u001b[38;5;129;01min\u001b[39;00m \u001b[43mtypes\u001b[49m:\n\u001b[1;32m      4\u001b[0m         \u001b[38;5;28;01mfor\u001b[39;00m key, items \u001b[38;5;129;01min\u001b[39;00m initial_weights[\u001b[38;5;28mtype\u001b[39m]\u001b[38;5;241m.\u001b[39mitems():\n\u001b[1;32m      5\u001b[0m             plt\u001b[38;5;241m.\u001b[39mfigure()\n",
      "\u001b[0;31mNameError\u001b[0m: name 'types' is not defined"
     ]
    }
   ],
   "source": [
    "with open(\"results/full_monty/initial_weights.pkl\", \"rb\") as file:\n",
    "    initial_weights = pickle.load(file)\n",
    "    for type in types:\n",
    "        for key, items in initial_weights[type].items():\n",
    "            plt.figure()\n",
    "            plt.title(f\" {type} Initial Weight distribution for layer {key}\")\n",
    "            plt.hist(x=items[\"w\"], bins=10)\n",
    "            plt.show()"
   ]
  },
  {
   "cell_type": "code",
   "execution_count": null,
   "metadata": {},
   "outputs": [
    {
     "name": "stdout",
     "output_type": "stream",
     "text": [
      "[0.78447522 0.33729137 0.18968257 ... 0.72666373 0.22891042 0.23559146]\n"
     ]
    }
   ],
   "source": []
  },
  {
   "cell_type": "code",
   "execution_count": null,
   "metadata": {},
   "outputs": [],
   "source": []
  },
  {
   "cell_type": "code",
   "execution_count": null,
   "metadata": {},
   "outputs": [
    {
     "name": "stdout",
     "output_type": "stream",
     "text": [
      "0\n",
      "1\n",
      "2\n",
      "3\n",
      "4\n"
     ]
    }
   ],
   "source": []
  },
  {
   "cell_type": "code",
   "execution_count": null,
   "metadata": {},
   "outputs": [],
   "source": [
    "# Define the neuron groups\n",
    "G1 = PoissonGroup(5, rates=10*Hz)\n",
    "G2 = NeuronGroup(5, 'dv/dt = -v / (10*ms) : 1', threshold='v > 1', reset='v = 0')\n",
    "\n",
    "# Define the synapses with STDP\n",
    "syn = Synapses(G1, G2, \n",
    "               model='''w : 1\n",
    "                        dApre/dt = -Apre / tau_pre : 1 (event-driven)\n",
    "                        dApost/dt = -Apost / tau_post : 1 (event-driven)''',\n",
    "               on_pre='''v_post += w\n",
    "                         Apre += dApre\n",
    "                         w = clip(w + Apost, 0, wmax)''',\n",
    "               on_post='''Apost += dApost\n",
    "                          w = clip(w + Apre, 0, wmax)''',\n",
    "               method='euler')\n",
    "\n",
    "syn.connect(p=0.5)\n",
    "syn.w = 'rand()'\n",
    "\n",
    "# Set the STDP parameters\n",
    "tau_pre = 20*ms\n",
    "tau_post = tau_pre\n",
    "dApre = 0.01\n",
    "dApost = -dApre\n",
    "wmax = 1\n",
    "\n",
    "# Run the simulation\n",
    "run(100*ms)\n",
    "\n",
    "# Plot the results\n",
    "plt.figure()\n",
    "plt.plot(syn.w)\n",
    "plt.xlabel('Synapse index')\n",
    "plt.ylabel('Weight')\n",
    "plt.title('Synaptic weights after 100 ms')\n",
    "plt.show()"
   ]
  },
  {
   "cell_type": "code",
   "execution_count": null,
   "metadata": {},
   "outputs": [
    {
     "ename": "IndexError",
     "evalue": "index 0 is out of bounds for axis 0 with size 0",
     "output_type": "error",
     "traceback": [
      "\u001b[0;31m---------------------------------------------------------------------------\u001b[0m",
      "\u001b[0;31mIndexError\u001b[0m                                Traceback (most recent call last)",
      "Cell \u001b[0;32mIn[11], line 15\u001b[0m\n\u001b[1;32m     11\u001b[0m bin_size \u001b[38;5;241m=\u001b[39m \u001b[38;5;241m10\u001b[39m  \u001b[38;5;66;03m# Number of bins for firing rates\u001b[39;00m\n\u001b[1;32m     12\u001b[0m stim_times \u001b[38;5;241m=\u001b[39m [start_time \u001b[38;5;241m+\u001b[39m i \u001b[38;5;241m*\u001b[39m stim_duration \u001b[38;5;28;01mfor\u001b[39;00m i \u001b[38;5;129;01min\u001b[39;00m \u001b[38;5;28mrange\u001b[39m(stimuli_count)]\n\u001b[0;32m---> 15\u001b[0m spike_trains \u001b[38;5;241m=\u001b[39m \u001b[43mspikes\u001b[49m\u001b[43m[\u001b[49m\u001b[38;5;241;43m0\u001b[39;49m\u001b[43m]\u001b[49m\n\u001b[1;32m     17\u001b[0m \u001b[38;5;66;03m# Firing rate computation\u001b[39;00m\n\u001b[1;32m     18\u001b[0m firing_rates \u001b[38;5;241m=\u001b[39m defaultdict(\u001b[38;5;28mlist\u001b[39m)\n",
      "File \u001b[0;32m~/Dropbox/dphil/programming/spikes/.venv/lib/python3.12/site-packages/brian2/units/fundamentalunits.py:1493\u001b[0m, in \u001b[0;36mQuantity.__getitem__\u001b[0;34m(self, key)\u001b[0m\n\u001b[1;32m   1489\u001b[0m \u001b[38;5;28;01mdef\u001b[39;00m \u001b[38;5;21m__getitem__\u001b[39m(\u001b[38;5;28mself\u001b[39m, key):\n\u001b[1;32m   1490\u001b[0m \u001b[38;5;250m    \u001b[39m\u001b[38;5;124;03m\"\"\"Overwritten to assure that single elements (i.e., indexed with a\u001b[39;00m\n\u001b[1;32m   1491\u001b[0m \u001b[38;5;124;03m    single integer or a tuple of integers) retain their unit.\u001b[39;00m\n\u001b[1;32m   1492\u001b[0m \u001b[38;5;124;03m    \"\"\"\u001b[39;00m\n\u001b[0;32m-> 1493\u001b[0m     \u001b[38;5;28;01mreturn\u001b[39;00m Quantity(\u001b[43mnp\u001b[49m\u001b[38;5;241;43m.\u001b[39;49m\u001b[43mndarray\u001b[49m\u001b[38;5;241;43m.\u001b[39;49m\u001b[38;5;21;43m__getitem__\u001b[39;49m\u001b[43m(\u001b[49m\u001b[38;5;28;43mself\u001b[39;49m\u001b[43m,\u001b[49m\u001b[43m \u001b[49m\u001b[43mkey\u001b[49m\u001b[43m)\u001b[49m, \u001b[38;5;28mself\u001b[39m\u001b[38;5;241m.\u001b[39mdim)\n",
      "\u001b[0;31mIndexError\u001b[0m: index 0 is out of bounds for axis 0 with size 0"
     ]
    }
   ],
   "source": []
  }
 ],
 "metadata": {
  "kernelspec": {
   "display_name": ".venv",
   "language": "python",
   "name": "python3"
  },
  "language_info": {
   "codemirror_mode": {
    "name": "ipython",
    "version": 3
   },
   "file_extension": ".py",
   "mimetype": "text/x-python",
   "name": "python",
   "nbconvert_exporter": "python",
   "pygments_lexer": "ipython3",
   "version": "3.12.6"
  }
 },
 "nbformat": 4,
 "nbformat_minor": 2
}
