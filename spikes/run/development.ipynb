{
 "cells": [
  {
   "cell_type": "markdown",
   "metadata": {},
   "source": [
    "So what am I looking to do?\n",
    "Train an epoch:\n",
    "\n",
    "We should have already defined the epoch in terms of the training data.\n",
    "We \n",
    "\n",
    "Train several epochs\n",
    "Test \n",
    "monitor during test\n",
    "graph results\n",
    "information theory\n",
    "\n"
   ]
  },
  {
   "cell_type": "code",
   "execution_count": 4,
   "metadata": {},
   "outputs": [],
   "source": [
    "import sys\n",
    "import os\n",
    "\n",
    "# Add the parent directory of the current working directory\n",
    "sys.path.append(os.path.dirname(os.getcwd()))\n",
    "\n",
    "from brian2 import *\n",
    "from input import *\n",
    "from network import *\n"
   ]
  },
  {
   "cell_type": "code",
   "execution_count": null,
   "metadata": {},
   "outputs": [],
   "source": [
    "from brian2 import *\n",
    "def create_spike_counter(neuron_group: NeuronGroup):\n",
    "    \"\"\"\n",
    "    Create a spike counter for a neuron group.\n",
    "\n",
    "    Parameters:\n",
    "    -----------\n",
    "        neuron (NeuronGroup):\n",
    "            The neuron group to create a spike counter for.\n",
    "\n",
    "    Returns:\n",
    "    --------\n",
    "        counter (SpikeCounter):\n",
    "            The spike counter for the neuron group.\n",
    "\n",
    "    Raises:\n",
    "    -------\n",
    "        None\n",
    "\"\"\"\n",
    "    neuron_group_name = neuron_group.name\n",
    "    neuron_group_size = neuron_group.N\n",
    "    model = \n",
    "    spike_counter = NeuronGroup(\n",
    "\n",
    "    )\n",
    "    \n",
    "def create_average_firing_rate_monitor(neuron_group: NeuronGroup):\n",
    "    average_firing_rate_monitor = \n",
    "    pass\n",
    "\n"
   ]
  },
  {
   "cell_type": "code",
   "execution_count": null,
   "metadata": {},
   "outputs": [],
   "source": [
    "G = NeuronGroup(...)\n",
    "M = PopulationRateMonitor(G)\n",
    "run(...)\n",
    "plot(M.t/ms, M.rate/Hz)"
   ]
  },
  {
   "cell_type": "code",
   "execution_count": null,
   "metadata": {},
   "outputs": [],
   "source": [
    "group = NeuronGroup(..., 'dv/dt = ... : volt', ...)\n",
    "\n",
    "# Dummy group to store the average membrane potential at every time step\n",
    "vm_container = NeuronGroup(1, 'average_vm : volt')\n",
    "\n",
    "# Synapses averaging the membrane potential of all neurons in group\n",
    "vm_averager = Synapses(group, vm_container, 'average_vm_post = v_pre/N_pre : volt (summed)')\n",
    "vm_averager.connect()\n",
    "\n",
    "# Monitor recording the average membrane potential\n",
    "vm_monitor = StateMonitor(vm_container, 'average_vm', record=True)"
   ]
  }
 ],
 "metadata": {
  "kernelspec": {
   "display_name": ".venv",
   "language": "python",
   "name": "python3"
  },
  "language_info": {
   "codemirror_mode": {
    "name": "ipython",
    "version": 3
   },
   "file_extension": ".py",
   "mimetype": "text/x-python",
   "name": "python",
   "nbconvert_exporter": "python",
   "pygments_lexer": "ipython3",
   "version": "3.12.6"
  }
 },
 "nbformat": 4,
 "nbformat_minor": 2
}
