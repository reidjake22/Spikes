{
 "cells": [
  {
   "cell_type": "code",
   "execution_count": 2,
   "metadata": {},
   "outputs": [],
   "source": [
    "from brian2 import *\n",
    "import numpy as np\n",
    "random_array = np.random.rand(10) * hertz\n",
    "poisson_neurons = PoissonGroup(10, rates=random_array)\n",
    "g = NeuronGroup(1, 'dge/dt = -v / (10*ms) : 1', threshold='v>1', reset='v=0', method='exact')\n",
    "s = Synapses(poisson_neurons, g, on_pre='ge += 0.2')"
   ]
  },
  {
   "cell_type": "code",
   "execution_count": null,
   "metadata": {},
   "outputs": [],
   "source": [
    "from brian2 import *\n",
    "from input import *\n",
    "from network import *\n",
    "\n",
    "exc_neuron_specs = NeuronSpecs(\n",
    "    neuron_type=\"excitatory\",\n",
    "    length=14,\n",
    "    cm=500 * pF,\n",
    "    g_leak=25 * nS,\n",
    "    v_threshold=-53 * mV,\n",
    "    v_reset=-57 * mV,\n",
    "    v_rest=-74 * mV,\n",
    "    v_reversal_e=0 * mV,\n",
    "    v_reversal_i=-70 * mV,\n",
    "    sigma=0.015 * mV,\n",
    "    t_refract=2 * ms,  # NEED TO ADD THIS\n",
    "    tau_m=20 * ms,\n",
    "    tau_ee=2 * ms,\n",
    "    tau_ie=5 * ms,\n",
    ")\n",
    "\n",
    "inh_neuron_specs = NeuronSpecs(\n",
    "    neuron_type=\"inhibitory\",\n",
    "    length=7,\n",
    "    cm=214 * pF,\n",
    "    g_leak=18 * nS,\n",
    "    v_threshold=-53 * mV,\n",
    "    v_reset=-58 * mV,\n",
    "    v_rest=-82 * mV,\n",
    "    v_reversal_e=0 * mV,\n",
    "    v_reversal_i=-70 * mV,\n",
    "    sigma=0.015 * mV,\n",
    "    tau_m=12 * ms,\n",
    "    tau_ei=2 * ms,\n",
    "    tau_ii=5 * ms,\n",
    ")\n",
    "stdp_synapse_specs = StdpSynapseSpecs(\n",
    "        lambda_e=0.1,\n",
    "        A_minus=0.1,\n",
    "        A_plus=0.1,\n",
    "        alpha_C=0.5,\n",
    "        alpha_D=0.5,\n",
    "        tau_c=3 * ms,\n",
    "        tau_d=5 * ms,\n",
    ")\n",
    "\n",
    "layer = 1\n",
    "exc_neuron_specs.create_neurons(layer)\n",
    "inh_neuron_specs.create_neurons(layer)\n",
    "\n",
    "stdp_synapse_specs.create_synapses(exc_neuron_specs, inh_neuron_specs, 2, layer)\n",
    "stdp_synapse_specs.animate_plots(exc_neuron_specs, inh_neuron_specs, 2, layer)"
   ]
  },
  {
   "cell_type": "code",
   "execution_count": 1,
   "metadata": {},
   "outputs": [
    {
     "data": {
      "application/vnd.jupyter.widget-view+json": {
       "model_id": "7705f2b0951a48eaa00410d598d36e16",
       "version_major": 2,
       "version_minor": 0
      },
      "text/plain": [
       "interactive(children=(FloatSlider(value=1.0, description='Scale 1', max=5.0, min=0.1), FloatSlider(value=1.0, …"
      ]
     },
     "metadata": {},
     "output_type": "display_data"
    },
    {
     "data": {
      "text/plain": [
       "<function __main__.plot_grids(scale1=1.0, scale2=1.0)>"
      ]
     },
     "execution_count": 1,
     "metadata": {},
     "output_type": "execute_result"
    }
   ],
   "source": [
    "import numpy as np\n",
    "import matplotlib.pyplot as plt\n",
    "from ipywidgets import interact, FloatSlider\n",
    "%matplotlib inline\n",
    "\n",
    "def plot_grids(scale1=1.0, scale2=1.0):\n",
    "    plt.figure(figsize=(8, 8))\n",
    "    ax = plt.gca()\n",
    "    ax.cla()  # Clear the current figure\n",
    "    ax.set_xlim(-10, 10)\n",
    "    ax.set_ylim(-10, 10)\n",
    "    ax.set_aspect('equal')\n",
    "\n",
    "    # First grid (blue solid lines)\n",
    "    x1 = np.arange(-10, 10 + scale1, scale1)\n",
    "    y1 = np.arange(-10, 10 + scale1, scale1)\n",
    "    for x in x1:\n",
    "        ax.axvline(x, color='blue', linestyle='-', alpha=0.5)\n",
    "    for y in y1:\n",
    "        ax.axhline(y, color='blue', linestyle='-', alpha=0.5)\n",
    "\n",
    "    # Second grid (red dashed lines)\n",
    "    x2 = np.arange(-10, 10 + scale2, scale2)\n",
    "    y2 = np.arange(-10, 10 + scale2, scale2)\n",
    "    for x in x2:\n",
    "        ax.axvline(x, color='red', linestyle='--', alpha=0.5)\n",
    "    for y in y2:\n",
    "        ax.axhline(y, color='red', linestyle='--', alpha=0.5)\n",
    "\n",
    "    # Origin point\n",
    "    ax.plot(0, 0, 'ko')  # Black dot at (0,0)\n",
    "\n",
    "    # Add scale annotations\n",
    "    ax.text(0.05, 0.95, f'Scale1: {scale1}', transform=ax.transAxes, color='blue', fontsize=12, verticalalignment='top')\n",
    "    ax.text(0.05, 0.90, f'Scale2: {scale2}', transform=ax.transAxes, color='red', fontsize=12, verticalalignment='top')\n",
    "\n",
    "    ax.grid(False)\n",
    "    plt.show()\n",
    "\n",
    "# Interactive sliders for scaling\n",
    "interact(plot_grids,\n",
    "         scale1=FloatSlider(min=0.1, max=5.0, step=0.1, value=1.0, description='Scale 1'),\n",
    "         scale2=FloatSlider(min=0.1, max=5.0, step=0.1, value=1.0, description='Scale 2'))"
   ]
  },
  {
   "cell_type": "code",
   "execution_count": 2,
   "metadata": {},
   "outputs": [
    {
     "data": {
      "application/vnd.jupyter.widget-view+json": {
       "model_id": "26da53b07dde439b824527d1304a73d1",
       "version_major": 2,
       "version_minor": 0
      },
      "text/plain": [
       "interactive(children=(FloatSlider(value=1.0, description='Scale 1', max=5.0, min=0.1), FloatSlider(value=1.0, …"
      ]
     },
     "metadata": {},
     "output_type": "display_data"
    },
    {
     "data": {
      "text/plain": [
       "<function __main__.plot_grids(scale1=1.0, scale2=1.0)>"
      ]
     },
     "execution_count": 2,
     "metadata": {},
     "output_type": "execute_result"
    }
   ],
   "source": [
    "import numpy as np\n",
    "import matplotlib.pyplot as plt\n",
    "from ipywidgets import interact, FloatSlider\n",
    "%matplotlib inline\n",
    "\n",
    "def plot_grids(scale1=1.0, scale2=1.0):\n",
    "    plt.figure(figsize=(8, 8))\n",
    "    ax = plt.gca()\n",
    "    ax.cla()  # Clear the current figure\n",
    "    ax.set_xlim(-10, 10)\n",
    "    ax.set_ylim(-10, 10)\n",
    "    ax.set_aspect('equal')\n",
    "\n",
    "    # First grid (blue solid lines)\n",
    "    limit = 10\n",
    "    # Generate grid lines that pass through the origin and extend beyond it\n",
    "    num_lines1 = int(np.ceil(limit / scale1))\n",
    "    x1 = np.arange(-num_lines1 * scale1, (num_lines1 + 1) * scale1, scale1)\n",
    "    y1 = x1  # Since it's symmetric\n",
    "    for x in x1:\n",
    "        ax.axvline(x, color='blue', linestyle='-', alpha=0.5)\n",
    "    for y in y1:\n",
    "        ax.axhline(y, color='blue', linestyle='-', alpha=0.5)\n",
    "\n",
    "    # Second grid (red dashed lines)\n",
    "    num_lines2 = int(np.ceil(limit / scale2))\n",
    "    x2 = np.arange(-num_lines2 * scale2, (num_lines2 + 1) * scale2, scale2)\n",
    "    y2 = x2\n",
    "    for x in x2:\n",
    "        ax.axvline(x, color='red', linestyle='--', alpha=0.5)\n",
    "    for y in y2:\n",
    "        ax.axhline(y, color='red', linestyle='--', alpha=0.5)\n",
    "\n",
    "    # Origin point\n",
    "    ax.plot(0, 0, 'ko')  # Black dot at (0,0)\n",
    "\n",
    "    # Add scale annotations\n",
    "    ax.text(0.05, 0.95, f'Scale1: {scale1}', transform=ax.transAxes, color='blue', fontsize=12, verticalalignment='top')\n",
    "    ax.text(0.05, 0.90, f'Scale2: {scale2}', transform=ax.transAxes, color='red', fontsize=12, verticalalignment='top')\n",
    "\n",
    "    ax.grid(False)\n",
    "    plt.show()\n",
    "\n",
    "# Interactive sliders for scaling\n",
    "interact(plot_grids,\n",
    "         scale1=FloatSlider(min=0.1, max=5.0, step=0.1, value=1.0, description='Scale 1'),\n",
    "         scale2=FloatSlider(min=0.1, max=5.0, step=0.1, value=1.0, description='Scale 2'))"
   ]
  },
  {
   "cell_type": "code",
   "execution_count": 3,
   "metadata": {},
   "outputs": [
    {
     "data": {
      "application/vnd.jupyter.widget-view+json": {
       "model_id": "12bd77cbb3a84ca6b48751a033731d9d",
       "version_major": 2,
       "version_minor": 0
      },
      "text/plain": [
       "interactive(children=(FloatSlider(value=1.0, description='Scale 1', max=5.0, min=0.1), FloatSlider(value=1.0, …"
      ]
     },
     "metadata": {},
     "output_type": "display_data"
    },
    {
     "data": {
      "text/plain": [
       "<function __main__.plot_grids(scale1=1.0, scale2=1.0)>"
      ]
     },
     "execution_count": 3,
     "metadata": {},
     "output_type": "execute_result"
    }
   ],
   "source": [
    "import numpy as np\n",
    "import matplotlib.pyplot as plt\n",
    "from ipywidgets import interact, FloatSlider\n",
    "%matplotlib inline\n",
    "\n",
    "def plot_grids(scale1=1.0, scale2=1.0):\n",
    "    plt.figure(figsize=(8, 8))\n",
    "    ax = plt.gca()\n",
    "    ax.cla()  # Clear the current figure\n",
    "\n",
    "    limit = 10  # You can adjust this limit as needed\n",
    "    ax.set_xlim(0, limit)\n",
    "    ax.set_ylim(0, limit)\n",
    "    ax.set_aspect('equal')\n",
    "\n",
    "    # First grid (blue solid lines)\n",
    "    num_lines1 = int(np.ceil(limit / scale1))\n",
    "    x1 = np.arange(0, (num_lines1 + 1) * scale1, scale1)\n",
    "    y1 = x1  # Since it's symmetric\n",
    "    for x in x1:\n",
    "        ax.axvline(x, color='blue', linestyle='-', alpha=0.5)\n",
    "    for y in y1:\n",
    "        ax.axhline(y, color='blue', linestyle='-', alpha=0.5)\n",
    "\n",
    "    # Second grid (red dashed lines)\n",
    "    num_lines2 = int(np.ceil(limit / scale2))\n",
    "    x2 = np.arange(0, (num_lines2 + 1) * scale2, scale2)\n",
    "    y2 = x2\n",
    "    for x in x2:\n",
    "        ax.axvline(x, color='red', linestyle='--', alpha=0.5)\n",
    "    for y in y2:\n",
    "        ax.axhline(y, color='red', linestyle='--', alpha=0.5)\n",
    "\n",
    "    # Origin point\n",
    "    ax.plot(0, 0, 'ko')  # Black dot at (0,0)\n",
    "\n",
    "    # Add scale annotations\n",
    "    ax.text(0.05, 0.95, f'Scale1: {scale1}', transform=ax.transAxes, color='blue', fontsize=12, verticalalignment='top')\n",
    "    ax.text(0.05, 0.90, f'Scale2: {scale2}', transform=ax.transAxes, color='red', fontsize=12, verticalalignment='top')\n",
    "\n",
    "    ax.grid(False)\n",
    "    plt.show()\n",
    "\n",
    "# Interactive sliders for scaling\n",
    "interact(plot_grids,\n",
    "         scale1=FloatSlider(min=0.1, max=5.0, step=0.1, value=1.0, description='Scale 1'),\n",
    "         scale2=FloatSlider(min=0.1, max=5.0, step=0.1, value=1.0, description='Scale 2'))"
   ]
  },
  {
   "cell_type": "code",
   "execution_count": 2,
   "metadata": {},
   "outputs": [
    {
     "name": "stderr",
     "output_type": "stream",
     "text": [
      "WARNING    /Users/jreid/Dropbox/dphil/programming/spikes/spikes/network/synapses.py:300: UserWarning: FigureCanvasAgg is non-interactive, and thus cannot be shown\n",
      "  plt.waitforbuttonpress()\n",
      " [py.warnings]\n"
     ]
    },
    {
     "name": "stdout",
     "output_type": "stream",
     "text": [
      "row_min:0\n",
      "row_max:2\n",
      "row_coords:[0 0 1 1]\n",
      "col_coords:[0 1 0 1]\n"
     ]
    },
    {
     "ename": "KeyboardInterrupt",
     "evalue": "",
     "output_type": "error",
     "traceback": [
      "\u001b[0;31m---------------------------------------------------------------------------\u001b[0m",
      "\u001b[0;31mKeyboardInterrupt\u001b[0m                         Traceback (most recent call last)",
      "Cell \u001b[0;32mIn[2], line 1\u001b[0m\n\u001b[0;32m----> 1\u001b[0m \u001b[43mstdp_synapse_specs\u001b[49m\u001b[38;5;241;43m.\u001b[39;49m\u001b[43manimate_plots\u001b[49m\u001b[43m(\u001b[49m\u001b[43mexc_neuron_specs\u001b[49m\u001b[43m,\u001b[49m\u001b[43m \u001b[49m\u001b[43minh_neuron_specs\u001b[49m\u001b[43m,\u001b[49m\u001b[43m \u001b[49m\u001b[38;5;241;43m2\u001b[39;49m\u001b[43m,\u001b[49m\u001b[43m \u001b[49m\u001b[43mlayer\u001b[49m\u001b[43m)\u001b[49m\n",
      "File \u001b[0;32m~/Dropbox/dphil/programming/spikes/spikes/network/synapses.py:300\u001b[0m, in \u001b[0;36mSynapseSpecsBase.animate_plots\u001b[0;34m(self, efferent_group_specs, afferent_group_specs, radius, layer)\u001b[0m\n\u001b[1;32m    297\u001b[0m     plt\u001b[38;5;241m.\u001b[39mdraw()\n\u001b[1;32m    299\u001b[0m     \u001b[38;5;66;03m# Wait for click to advance\u001b[39;00m\n\u001b[0;32m--> 300\u001b[0m     \u001b[43mplt\u001b[49m\u001b[38;5;241;43m.\u001b[39;49m\u001b[43mwaitforbuttonpress\u001b[49m\u001b[43m(\u001b[49m\u001b[43m)\u001b[49m\n\u001b[1;32m    302\u001b[0m plt\u001b[38;5;241m.\u001b[39mioff()  \u001b[38;5;66;03m# Disable interactive mode\u001b[39;00m\n\u001b[1;32m    303\u001b[0m plt\u001b[38;5;241m.\u001b[39mshow()\n",
      "File \u001b[0;32m~/Dropbox/dphil/programming/spikes/.venv/lib/python3.12/site-packages/matplotlib/pyplot.py:2807\u001b[0m, in \u001b[0;36mwaitforbuttonpress\u001b[0;34m(timeout)\u001b[0m\n\u001b[1;32m   2805\u001b[0m \u001b[38;5;129m@_copy_docstring_and_deprecators\u001b[39m(Figure\u001b[38;5;241m.\u001b[39mwaitforbuttonpress)\n\u001b[1;32m   2806\u001b[0m \u001b[38;5;28;01mdef\u001b[39;00m \u001b[38;5;21mwaitforbuttonpress\u001b[39m(timeout: \u001b[38;5;28mfloat\u001b[39m \u001b[38;5;241m=\u001b[39m \u001b[38;5;241m-\u001b[39m\u001b[38;5;241m1\u001b[39m) \u001b[38;5;241m-\u001b[39m\u001b[38;5;241m>\u001b[39m \u001b[38;5;28;01mNone\u001b[39;00m \u001b[38;5;241m|\u001b[39m \u001b[38;5;28mbool\u001b[39m:\n\u001b[0;32m-> 2807\u001b[0m     \u001b[38;5;28;01mreturn\u001b[39;00m \u001b[43mgcf\u001b[49m\u001b[43m(\u001b[49m\u001b[43m)\u001b[49m\u001b[38;5;241;43m.\u001b[39;49m\u001b[43mwaitforbuttonpress\u001b[49m\u001b[43m(\u001b[49m\u001b[43mtimeout\u001b[49m\u001b[38;5;241;43m=\u001b[39;49m\u001b[43mtimeout\u001b[49m\u001b[43m)\u001b[49m\n",
      "File \u001b[0;32m~/Dropbox/dphil/programming/spikes/.venv/lib/python3.12/site-packages/matplotlib/figure.py:3508\u001b[0m, in \u001b[0;36mFigure.waitforbuttonpress\u001b[0;34m(self, timeout)\u001b[0m\n\u001b[1;32m   3505\u001b[0m     event \u001b[38;5;241m=\u001b[39m ev\n\u001b[1;32m   3506\u001b[0m     \u001b[38;5;28mself\u001b[39m\u001b[38;5;241m.\u001b[39mcanvas\u001b[38;5;241m.\u001b[39mstop_event_loop()\n\u001b[0;32m-> 3508\u001b[0m \u001b[43m_blocking_input\u001b[49m\u001b[38;5;241;43m.\u001b[39;49m\u001b[43mblocking_input_loop\u001b[49m\u001b[43m(\u001b[49m\n\u001b[1;32m   3509\u001b[0m \u001b[43m    \u001b[49m\u001b[38;5;28;43mself\u001b[39;49m\u001b[43m,\u001b[49m\u001b[43m \u001b[49m\u001b[43m[\u001b[49m\u001b[38;5;124;43m\"\u001b[39;49m\u001b[38;5;124;43mbutton_press_event\u001b[39;49m\u001b[38;5;124;43m\"\u001b[39;49m\u001b[43m,\u001b[49m\u001b[43m \u001b[49m\u001b[38;5;124;43m\"\u001b[39;49m\u001b[38;5;124;43mkey_press_event\u001b[39;49m\u001b[38;5;124;43m\"\u001b[39;49m\u001b[43m]\u001b[49m\u001b[43m,\u001b[49m\u001b[43m \u001b[49m\u001b[43mtimeout\u001b[49m\u001b[43m,\u001b[49m\u001b[43m \u001b[49m\u001b[43mhandler\u001b[49m\u001b[43m)\u001b[49m\n\u001b[1;32m   3511\u001b[0m \u001b[38;5;28;01mreturn\u001b[39;00m \u001b[38;5;28;01mNone\u001b[39;00m \u001b[38;5;28;01mif\u001b[39;00m event \u001b[38;5;129;01mis\u001b[39;00m \u001b[38;5;28;01mNone\u001b[39;00m \u001b[38;5;28;01melse\u001b[39;00m event\u001b[38;5;241m.\u001b[39mname \u001b[38;5;241m==\u001b[39m \u001b[38;5;124m\"\u001b[39m\u001b[38;5;124mkey_press_event\u001b[39m\u001b[38;5;124m\"\u001b[39m\n",
      "File \u001b[0;32m~/Dropbox/dphil/programming/spikes/.venv/lib/python3.12/site-packages/matplotlib/_blocking_input.py:26\u001b[0m, in \u001b[0;36mblocking_input_loop\u001b[0;34m(figure, event_names, timeout, handler)\u001b[0m\n\u001b[1;32m     24\u001b[0m cids \u001b[38;5;241m=\u001b[39m [figure\u001b[38;5;241m.\u001b[39mcanvas\u001b[38;5;241m.\u001b[39mmpl_connect(name, handler) \u001b[38;5;28;01mfor\u001b[39;00m name \u001b[38;5;129;01min\u001b[39;00m event_names]\n\u001b[1;32m     25\u001b[0m \u001b[38;5;28;01mtry\u001b[39;00m:\n\u001b[0;32m---> 26\u001b[0m     \u001b[43mfigure\u001b[49m\u001b[38;5;241;43m.\u001b[39;49m\u001b[43mcanvas\u001b[49m\u001b[38;5;241;43m.\u001b[39;49m\u001b[43mstart_event_loop\u001b[49m\u001b[43m(\u001b[49m\u001b[43mtimeout\u001b[49m\u001b[43m)\u001b[49m  \u001b[38;5;66;03m# Start event loop.\u001b[39;00m\n\u001b[1;32m     27\u001b[0m \u001b[38;5;28;01mfinally\u001b[39;00m:  \u001b[38;5;66;03m# Run even on exception like ctrl-c.\u001b[39;00m\n\u001b[1;32m     28\u001b[0m     \u001b[38;5;66;03m# Disconnect the callbacks.\u001b[39;00m\n\u001b[1;32m     29\u001b[0m     \u001b[38;5;28;01mfor\u001b[39;00m cid \u001b[38;5;129;01min\u001b[39;00m cids:\n",
      "File \u001b[0;32m~/Dropbox/dphil/programming/spikes/.venv/lib/python3.12/site-packages/matplotlib/backend_bases.py:2392\u001b[0m, in \u001b[0;36mFigureCanvasBase.start_event_loop\u001b[0;34m(self, timeout)\u001b[0m\n\u001b[1;32m   2390\u001b[0m \u001b[38;5;28;01mwhile\u001b[39;00m \u001b[38;5;28mself\u001b[39m\u001b[38;5;241m.\u001b[39m_looping \u001b[38;5;129;01mand\u001b[39;00m counter \u001b[38;5;241m*\u001b[39m timestep \u001b[38;5;241m<\u001b[39m timeout:\n\u001b[1;32m   2391\u001b[0m     \u001b[38;5;28mself\u001b[39m\u001b[38;5;241m.\u001b[39mflush_events()\n\u001b[0;32m-> 2392\u001b[0m     \u001b[43mtime\u001b[49m\u001b[38;5;241;43m.\u001b[39;49m\u001b[43msleep\u001b[49m\u001b[43m(\u001b[49m\u001b[43mtimestep\u001b[49m\u001b[43m)\u001b[49m\n\u001b[1;32m   2393\u001b[0m     counter \u001b[38;5;241m+\u001b[39m\u001b[38;5;241m=\u001b[39m \u001b[38;5;241m1\u001b[39m\n",
      "\u001b[0;31mKeyboardInterrupt\u001b[0m: "
     ]
    },
    {
     "data": {
      "image/png": "[encoded data removed]",
      "text/plain": [
       "<Figure size 600x600 with 1 Axes>"
      ]
     },
     "metadata": {},
     "output_type": "display_data"
    }
   ],
   "source": []
  }
 ],
 "metadata": {
  "kernelspec": {
   "display_name": ".venv",
   "language": "python",
   "name": "python3"
  },
  "language_info": {
   "codemirror_mode": {
    "name": "ipython",
    "version": 3
   },
   "file_extension": ".py",
   "mimetype": "text/x-python",
   "name": "python",
   "nbconvert_exporter": "python",
   "pygments_lexer": "ipython3",
   "version": "3.12.6"
  }
 },
 "nbformat": 4,
 "nbformat_minor": 2
}
