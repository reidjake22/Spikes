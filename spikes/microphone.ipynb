{
 "cells": [
  {
   "cell_type": "code",
   "execution_count": 6,
   "metadata": {},
   "outputs": [],
   "source": [
    "import sounddevice as sd\n",
    "\n",
    "# Specify input (microphone) and output (speakers) device indices\n",
    "input_device = 2  # Replace with your microphone device index\n",
    "output_device = 1  # Replace with your speakers device index\n",
    "\n",
    "# Define the callback function with the correct signature\n",
    "def live_audio_stream(indata, frames, time, status, *args):\n",
    "    if status:\n",
    "        print(f\"Status: {status}\")\n",
    "    # Play the microphone audio through the speakers\n",
    "    sd.OutputStream(device=output_device).write(indata)\n",
    "\n",
    "# Stream live audio\n",
    "try:\n",
    "    # Open the audio stream with specified input and output devices\n",
    "    with sd.Stream(device=(input_device, output_device), callback=live_audio_stream):\n",
    "        print(\"Streaming live audio. Press Ctrl+C to stop.\")\n",
    "        sd.sleep(10000)  # Stream for 10 seconds\n",
    "except KeyboardInterrupt:\n",
    "    print(\"\\nAudio stream stopped.\")\n",
    "except Exception as e:\n",
    "    print(f\"Error: {e}\")"
   ]
  }
 ],
 "metadata": {
  "kernelspec": {
   "display_name": ".venv",
   "language": "python",
   "name": "python3"
  },
  "language_info": {
   "codemirror_mode": {
    "name": "ipython",
    "version": 3
   },
   "file_extension": ".py",
   "mimetype": "text/x-python",
   "name": "python",
   "nbconvert_exporter": "python",
   "pygments_lexer": "ipython3",
   "version": "3.12.6"
  }
 },
 "nbformat": 4,
 "nbformat_minor": 2
}
