{
 "cells": [
  {
   "cell_type": "code",
   "execution_count": 1,
   "metadata": {},
   "outputs": [],
   "source": [
    "from brian2 import *\n",
    "from run import *\n",
    "import numpy as np\n",
    "\n",
    "def load_spike_data(filepath):\n",
    "    \"\"\"\n",
    "    Load spike train data from a .npz file.\n",
    "\n",
    "    Args:\n",
    "        filepath (str): The path to the .npz file.\n",
    "\n",
    "    Returns:\n",
    "        dict: A dictionary containing the spike trains data.\n",
    "    \"\"\"\n",
    "    try:\n",
    "        # Load the .npz file\n",
    "        data = np.load(filepath, allow_pickle=True)\n",
    "\n",
    "        # Convert to a dictionary for easier handling\n",
    "        spike_data = {key: data[key].item() for key in data}\n",
    "\n",
    "        print(\"Data loaded successfully.\")\n",
    "        return spike_data\n",
    "    except FileNotFoundError:\n",
    "        raise FileNotFoundError(f\"File not found: {filepath}\")\n",
    "    except Exception as e:\n",
    "        raise IOError(f\"An error occurred while loading the file: {e}\")"
   ]
  },
  {
   "cell_type": "code",
   "execution_count": 7,
   "metadata": {},
   "outputs": [
    {
     "name": "stdout",
     "output_type": "stream",
     "text": [
      "Data loaded successfully.\n"
     ]
    },
    {
     "data": {
      "text/latex": [
       "$\\left[\\begin{matrix}\\end{matrix}\\right]\\,\\mathrm{s}$"
      ],
      "text/plain": [
       "array([], dtype=float64) * second"
      ]
     },
     "execution_count": 7,
     "metadata": {},
     "output_type": "execute_result"
    }
   ],
   "source": [
    "data = load_spike_data(\"results/spike_data_26th_november_2024.npz\")\n",
    "data[\"1\"][0]\n"
   ]
  }
 ],
 "metadata": {
  "kernelspec": {
   "display_name": ".venv",
   "language": "python",
   "name": "python3"
  },
  "language_info": {
   "codemirror_mode": {
    "name": "ipython",
    "version": 3
   },
   "file_extension": ".py",
   "mimetype": "text/x-python",
   "name": "python",
   "nbconvert_exporter": "python",
   "pygments_lexer": "ipython3",
   "version": "3.12.6"
  }
 },
 "nbformat": 4,
 "nbformat_minor": 2
}
